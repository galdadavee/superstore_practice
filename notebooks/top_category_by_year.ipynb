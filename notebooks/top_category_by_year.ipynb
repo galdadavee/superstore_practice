{
 "cells": [
  {
   "cell_type": "code",
   "execution_count": null,
   "id": "9ac04780",
   "metadata": {
    "vscode": {
     "languageId": "plaintext"
    }
   },
   "outputs": [],
   "source": [
    "import os\n",
    "import pandas as pd\n",
    "from sqlalchemy import create_engine\n",
    "from dotenv import load_dotenv\n",
    "\n",
    "load_dotenv()\n",
    "\n",
    "#Környezeti változók beolvasása\n",
    "DB_HOST = os.getenv(\"DB_HOST\")\n",
    "DB_PORT = os.getenv(\"DB_PORT\")\n",
    "DB_NAME = os.getenv(\"DB_NAME\")\n",
    "DB_USER = os.getenv(\"DB_USER\")\n",
    "DB_PASSWORD = os.getenv(\"DB_PASSWORD\")\n",
    "\n",
    "DB_URL = f\"postgresql://{DB_USER}:{DB_PASSWORD}@{DB_HOST}:{DB_PORT}/{DB_NAME}\"\n",
    "engine = create_engine(DB_URL)\n",
    "\n",
    "query = \"\"\"\n",
    "SELECT EXTRACT(YEAR FROM fo.order_date) AS year, dp.category, SUM(fo.profit) AS total_profit\n",
    "FROM fact_orders fo\n",
    "JOIN dim_product dp ON fo.product_id = dp.product_id\n",
    "GROUP BY year, dp.category\n",
    "ORDER BY year, total_profit DESC;\n",
    "\"\"\"\n",
    "\n",
    "df = pd.read_sql_query(query, engine)\n",
    "\n",
    "#Legnagyobb profitú kategória kiválasztása évente\n",
    "top_by_year = df.sort_values(['year', 'total_profit'], ascending=[True, False]).drop_duplicates(subset='year')\n",
    "\n",
    "print(top_by_year)"
   ]
  }
 ],
 "metadata": {
  "language_info": {
   "name": "python"
  }
 },
 "nbformat": 4,
 "nbformat_minor": 5
}
