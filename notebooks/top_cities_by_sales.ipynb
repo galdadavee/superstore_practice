{
 "cells": [
  {
   "cell_type": "code",
   "execution_count": null,
   "id": "f3a24406",
   "metadata": {
    "vscode": {
     "languageId": "plaintext"
    }
   },
   "outputs": [],
   "source": [
    "import os\n",
    "import pandas as pd\n",
    "from sqlalchemy import create_engine\n",
    "from dotenv import load_dotenv\n",
    "\n",
    "load_dotenv()\n",
    "\n",
    "#Környezeti változók beolvasása\n",
    "DB_HOST = os.getenv(\"DB_HOST\")\n",
    "DB_PORT = os.getenv(\"DB_PORT\")\n",
    "DB_NAME = os.getenv(\"DB_NAME\")\n",
    "DB_USER = os.getenv(\"DB_USER\")\n",
    "DB_PASSWORD = os.getenv(\"DB_PASSWORD\")\n",
    "\n",
    "DB_URL = f\"postgresql://{DB_USER}:{DB_PASSWORD}@{DB_HOST}:{DB_PORT}/{DB_NAME}\"\n",
    "engine = create_engine(DB_URL)\n",
    "\n",
    "query = \"\"\"\n",
    "WITH city_sales AS (\n",
    "    SELECT\n",
    "        EXTRACT(YEAR FROM fo.order_date) AS year,\n",
    "        dl.city,\n",
    "        SUM(fo.sales) AS total_sales,\n",
    "        RANK() OVER (\n",
    "            PARTITION BY EXTRACT(YEAR FROM fo.order_date)\n",
    "            ORDER BY SUM(fo.sales) DESC\n",
    "        ) AS city_rank\n",
    "    FROM fact_orders fo\n",
    "    JOIN dim_location dl ON fo.location_id = dl.location_id\n",
    "    GROUP BY year, dl.city\n",
    ")\n",
    "\n",
    "SELECT *\n",
    "FROM city_sales\n",
    "WHERE city_rank <= 5\n",
    "ORDER BY year, city_rank;\n",
    "\"\"\"\n",
    "\n",
    "df = pd.read_sql_query(query, engine)\n",
    "print(df)\n"
   ]
  }
 ],
 "metadata": {
  "language_info": {
   "name": "python"
  }
 },
 "nbformat": 4,
 "nbformat_minor": 5
}
