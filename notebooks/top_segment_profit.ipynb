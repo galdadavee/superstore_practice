{
 "cells": [
  {
   "cell_type": "code",
   "execution_count": null,
   "id": "4c21e78b",
   "metadata": {
    "vscode": {
     "languageId": "plaintext"
    }
   },
   "outputs": [],
   "source": [
    "import os\n",
    "import pandas as pd\n",
    "from sqlalchemy import create_engine\n",
    "from dotenv import load_dotenv\n",
    "\n",
    "load_dotenv()\n",
    "\n",
    "#Környezeti változók beolvasása\n",
    "DB_HOST = os.getenv(\"DB_HOST\")\n",
    "DB_PORT = os.getenv(\"DB_PORT\")\n",
    "DB_NAME = os.getenv(\"DB_NAME\")\n",
    "DB_USER = os.getenv(\"DB_USER\")\n",
    "DB_PASSWORD = os.getenv(\"DB_PASSWORD\")\n",
    "\n",
    "DB_URL = f\"postgresql://{DB_USER}:{DB_PASSWORD}@{DB_HOST}:{DB_PORT}/{DB_NAME}\"\n",
    "engine = create_engine(DB_URL)\n",
    "\n",
    "#Lekérdezés\n",
    "\n",
    "query = \"\"\"\n",
    "WITH profits_per_segment AS (\n",
    "    SELECT \n",
    "        EXTRACT(YEAR FROM fo.order_date) AS year,\n",
    "        dl.country AS country,\n",
    "        dl.region AS region,\n",
    "        dc.segment AS segment,\n",
    "        SUM(fo.profit) AS total_profit,\n",
    "        RANK () OVER (\n",
    "            PARTITION BY EXTRACT(YEAR FROM fo.order_date), dl.country\n",
    "            ORDER BY SUM(fo.profit) DESC\n",
    "        ) AS segment_rank\n",
    "    FROM fact_orders fo\n",
    "    JOIN dim_customer dc ON fo.customer_id = dc.customer_id\n",
    "    JOIN dim_location dl ON fo.location_id = dl.location_id\n",
    "    GROUP BY year, country, region, segment\n",
    ")\n",
    "\n",
    "SELECT * \n",
    "FROM profits_per_segment\n",
    "WHERE segment_rank = 1\n",
    "ORDER BY year, country;\n",
    "\"\"\"\n",
    "\n",
    "df = pd.read_sql_query(query, engine)\n",
    "\n",
    "print(df)"
   ]
  }
 ],
 "metadata": {
  "language_info": {
   "name": "python"
  }
 },
 "nbformat": 4,
 "nbformat_minor": 5
}
